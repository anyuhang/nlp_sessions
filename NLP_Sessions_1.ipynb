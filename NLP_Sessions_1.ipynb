{
 "cells": [
  {
   "cell_type": "code",
   "execution_count": 1,
   "metadata": {
    "collapsed": false
   },
   "outputs": [
    {
     "data": {
      "text/plain": [
       "u'/Users/yan/Code/avvo_nlp'"
      ]
     },
     "execution_count": 1,
     "metadata": {},
     "output_type": "execute_result"
    }
   ],
   "source": [
    "%pwd"
   ]
  },
  {
   "cell_type": "code",
   "execution_count": 2,
   "metadata": {
    "collapsed": false
   },
   "outputs": [
    {
     "name": "stderr",
     "output_type": "stream",
     "text": [
      "Using TensorFlow backend.\n"
     ]
    }
   ],
   "source": [
    "from __future__ import print_function\n",
    "import os, sys, collections\n",
    "import numpy as np\n",
    "from numpy import linalg as LA\n",
    "from keras.models import Sequential\n",
    "from keras.preprocessing.text import Tokenizer\n",
    "from keras.preprocessing.sequence import pad_sequences\n",
    "from nlp_utility import *"
   ]
  },
  {
   "cell_type": "code",
   "execution_count": 3,
   "metadata": {
    "collapsed": true
   },
   "outputs": [],
   "source": [
    "fn = '/Users/yan/qa-classifier/qa_recom_refQuestions.csv'\n",
    "sen = readfile(fn)"
   ]
  },
  {
   "cell_type": "code",
   "execution_count": 4,
   "metadata": {
    "collapsed": false
   },
   "outputs": [
    {
     "data": {
      "text/plain": [
       "(128463,\n",
       " [2808839,\n",
       "  112,\n",
       "  'where would i find and ingressegress easement if it was documented by not on the deed purchasing a home now at closing and title company says there is not recorded easement on the deed at this point everything is complete but this we are 17 days past our closing date because of this problem'])"
      ]
     },
     "execution_count": 4,
     "metadata": {},
     "output_type": "execute_result"
    }
   ],
   "source": [
    "len(sen), sen[0]"
   ]
  },
  {
   "cell_type": "code",
   "execution_count": 5,
   "metadata": {
    "collapsed": true
   },
   "outputs": [],
   "source": [
    "def tokenizer(texts):\n",
    "    sentences = []\n",
    "    for sen_cur in texts:\n",
    "        words = []\n",
    "        for i in sen_cur.split(' '):\n",
    "            if len(i) > 0:\n",
    "                words.append(i)\n",
    "        sentences.append(words)\n",
    "    return sentences\n",
    "\n",
    "texts = [i[2] for i in sen]\n",
    "sentences = tokenizer(texts)"
   ]
  },
  {
   "cell_type": "code",
   "execution_count": 25,
   "metadata": {
    "collapsed": false
   },
   "outputs": [
    {
     "name": "stdout",
     "output_type": "stream",
     "text": [
      "[['where', 'would', 'i', 'find', 'and', 'ingressegress', 'easement', 'if', 'it', 'was', 'documented', 'by', 'not', 'on', 'the', 'deed', 'purchasing', 'a', 'home', 'now', 'at', 'closing', 'and', 'title', 'company', 'says', 'there', 'is', 'not', 'recorded', 'easement', 'on', 'the', 'deed', 'at', 'this', 'point', 'everything', 'is', 'complete', 'but', 'this', 'we', 'are', '17', 'days', 'past', 'our', 'closing', 'date', 'because', 'of', 'this', 'problem'], ['how', 'do', 'i', 'take', 'care', 'of', 'a', 'bench', 'warrant', 'from', 'california', 'and', 'i', 'live', 'in', 'washington', 'state', 'i', 'apparently', 'missed', 'court', 'in', '2011', 'for', 'sentencing', 'for', 'false', 'representation', 'to', 'obtain', 'aid', 'of', '950', 'or', 'more']]\n"
     ]
    }
   ],
   "source": [
    "print(sentences[:2])"
   ]
  },
  {
   "cell_type": "code",
   "execution_count": 7,
   "metadata": {
    "collapsed": true
   },
   "outputs": [],
   "source": [
    "def build_unigram(sentences):\n",
    "    unigram = []\n",
    "    for sen_cur in sentences:\n",
    "        for i in sen_cur:\n",
    "            if len(i) > 0:\n",
    "                unigram.append(i)\n",
    "    return unigram\n",
    "\n",
    "unigram = build_unigram(sentences)"
   ]
  },
  {
   "cell_type": "code",
   "execution_count": 8,
   "metadata": {
    "collapsed": false
   },
   "outputs": [
    {
     "data": {
      "text/plain": [
       "12516944"
      ]
     },
     "execution_count": 8,
     "metadata": {},
     "output_type": "execute_result"
    }
   ],
   "source": [
    "len(unigram)"
   ]
  },
  {
   "cell_type": "code",
   "execution_count": 9,
   "metadata": {
    "collapsed": true
   },
   "outputs": [],
   "source": [
    "def count_words(count, words, VOCAB_SIZE=20000):\n",
    "    import collections\n",
    "    count.extend(collections.Counter(words).most_common(VOCAB_SIZE - 1))\n",
    "    return count\n",
    "\n",
    "count = [('UNK', -1)]\n",
    "count = count_words(count, unigram, VOCAB_SIZE = 40000)"
   ]
  },
  {
   "cell_type": "code",
   "execution_count": 10,
   "metadata": {
    "collapsed": false
   },
   "outputs": [
    {
     "data": {
      "text/plain": [
       "[('UNK', -1),\n",
       " ('i', 511602),\n",
       " ('the', 450196),\n",
       " ('to', 423515),\n",
       " ('and', 334535),\n",
       " ('a', 333456),\n",
       " ('my', 291032),\n",
       " ('in', 207049),\n",
       " ('for', 187611),\n",
       " ('of', 180527)]"
      ]
     },
     "execution_count": 10,
     "metadata": {},
     "output_type": "execute_result"
    }
   ],
   "source": [
    "count[:10]"
   ]
  },
  {
   "cell_type": "code",
   "execution_count": 11,
   "metadata": {
    "collapsed": false
   },
   "outputs": [
    {
     "name": "stdout",
     "output_type": "stream",
     "text": [
      "47 128463\n"
     ]
    }
   ],
   "source": [
    "def build_dictionary(count):\n",
    "  dictionary = dict()\n",
    "  for word, _ in count:\n",
    "    dictionary[word] = len(dictionary)\n",
    "  reverse_dictionary = dict(zip(dictionary.values(), dictionary.keys()))\n",
    "  return  dictionary, reverse_dictionary\n",
    "\n",
    "dictionary, reverse_dictionary = build_dictionary(count)\n",
    "sequences = texts_to_sequences(sentences, dictionary, span=4)\n",
    "print(len(sequences[2]),len(sequences))"
   ]
  },
  {
   "cell_type": "code",
   "execution_count": 16,
   "metadata": {
    "collapsed": false
   },
   "outputs": [
    {
     "name": "stdout",
     "output_type": "stream",
     "text": [
      "['how', 'ong', 'can', 'probation', 'office', 'use', 'old', 'revocation', 'against', 'new', 'case', 'i', 'was', 'very', 'unaware', 'or', 'how', 'system', 'work', 'and', 'po', 'duke', 'me', 'to', 'revoking', '12', 'years', 'ago', 'had', 'nothing', 'sense', 'tell', 'aug', 'of', '2016', 'now', 'there', 'using', 'old', 'revocation', 'to', 'set', 'all', 'rules', 'on', 'new', 'case']\n",
      "[46, 0, 18, 149, 300, 201, 130, 2474, 178, 120, 55, 1, 11, 203, 2792, 28, 46, 850, 80, 4, 1215, 16316, 14, 3, 6406, 469, 57, 126, 42, 291, 1890, 356, 1713, 9, 400, 51, 50, 435, 130, 2474, 3, 457, 69, 1353, 15, 120, 55]\n"
     ]
    }
   ],
   "source": [
    "print(sentences[2])\n",
    "print(sequences[2])"
   ]
  },
  {
   "cell_type": "code",
   "execution_count": 26,
   "metadata": {
    "collapsed": false
   },
   "outputs": [
    {
     "data": {
      "text/plain": [
       "'ago'"
      ]
     },
     "execution_count": 26,
     "metadata": {},
     "output_type": "execute_result"
    }
   ],
   "source": [
    "reverse_dictionary[126]"
   ]
  },
  {
   "cell_type": "code",
   "execution_count": null,
   "metadata": {
    "collapsed": true
   },
   "outputs": [],
   "source": [
    "## Matrix manipulation"
   ]
  },
  {
   "cell_type": "code",
   "execution_count": 19,
   "metadata": {
    "collapsed": true
   },
   "outputs": [],
   "source": [
    "from numpy import linalg as LA\n",
    "a = np.array([[0, 3, 4, 2, 5],\n",
    "              [4, 2, 6, 3, 1],\n",
    "              [2, 1, 1, 8, 8],\n",
    "              [6, 6, 3, 2, 6]])"
   ]
  },
  {
   "cell_type": "code",
   "execution_count": 21,
   "metadata": {
    "collapsed": false
   },
   "outputs": [
    {
     "data": {
      "text/plain": [
       "array([[ 0.        ,  0.40824829,  0.54433105,  0.27216553,  0.68041382],\n",
       "       [ 0.49236596,  0.24618298,  0.73854895,  0.36927447,  0.12309149],\n",
       "       [ 0.17277369,  0.08638684,  0.08638684,  0.69109474,  0.69109474],\n",
       "       [ 0.54545455,  0.54545455,  0.27272727,  0.18181818,  0.54545455]])"
      ]
     },
     "execution_count": 21,
     "metadata": {},
     "output_type": "execute_result"
    }
   ],
   "source": [
    "## Normalized Array\n",
    "a_norm = LA.norm(a, axis=1)  \n",
    "a_n = a / a_norm.reshape((a.shape[0],1))\n",
    "a_n"
   ]
  },
  {
   "cell_type": "code",
   "execution_count": 22,
   "metadata": {
    "collapsed": false
   },
   "outputs": [
    {
     "data": {
      "text/plain": [
       "array([[4, 2],\n",
       "       [2, 0],\n",
       "       [4, 3],\n",
       "       [4, 1]])"
      ]
     },
     "execution_count": 22,
     "metadata": {},
     "output_type": "execute_result"
    }
   ],
   "source": [
    "## Find the index of the top 2 elements in descending order in each row \n",
    "sorted_row_idx = np.argsort(a_n, axis=1)[:,-2::][:,::-1]\n",
    "sorted_row_idx"
   ]
  },
  {
   "cell_type": "code",
   "execution_count": null,
   "metadata": {
    "collapsed": true
   },
   "outputs": [],
   "source": []
  }
 ],
 "metadata": {
  "kernelspec": {
   "display_name": "Python 2",
   "language": "python",
   "name": "python2"
  },
  "language_info": {
   "codemirror_mode": {
    "name": "ipython",
    "version": 2
   },
   "file_extension": ".py",
   "mimetype": "text/x-python",
   "name": "python",
   "nbconvert_exporter": "python",
   "pygments_lexer": "ipython2",
   "version": "2.7.13"
  }
 },
 "nbformat": 4,
 "nbformat_minor": 2
}
